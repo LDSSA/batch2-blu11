{
 "cells": [
  {
   "cell_type": "markdown",
   "metadata": {},
   "source": [
    "# BLU11 - Learning Notebook - Part 1 of 3 - Working with Large Matrices"
   ]
  },
  {
   "cell_type": "code",
   "execution_count": 1,
   "metadata": {},
   "outputs": [],
   "source": [
    "import numpy as np\n",
    "import scipy as sp\n",
    "\n",
    "from scipy.sparse import random,  coo_matrix, lil_matrix, dok_matrix"
   ]
  },
  {
   "cell_type": "markdown",
   "metadata": {},
   "source": [
    "# 1 Space Complexity\n",
    "\n",
    "Huge matrices require much memory, and some large matrices are very sparse, i.e., with many more zero values than data.\n",
    "\n",
    "This allocation is a waste of resources, as missing values and data cost the same space, but only the later hold any information.\n",
    "\n",
    "In practice, this leads to matrices that don't fit in memory, despite having a manageable amount of data.\n",
    "\n",
    "# 2 Time Complexity\n",
    "\n",
    "Even when we can fit a considerable matrix into memory, it doesn't ensure we can perform operations on it.\n",
    "\n",
    "Most operations require multiple operations on each row, column, or even the individual values of the matrix.\n",
    "\n",
    "Vectorization, which we learned previously, is a way to deal with time complexity. \n",
    "\n",
    "# 3 Sparse Matrices\n",
    "\n",
    "The premise of sparse data structures is that we store only non-zero values, and assume the rest of them are zeros.\n",
    "\n",
    "Sparse matrices allow us to mitigate both space and time complexity:\n",
    "* They are less memory-intensive, as they squeeze out the zeros and store only relevant values\n",
    "* Operations ignore zero values, i.e., the majority of the cells.\n",
    "\n",
    "## 3.1 Sparse Matrices in SciPy\n",
    "\n",
    "The `scipy.sparse` module implements sparse matrices based in regular NumPy arrays.\n",
    "\n",
    "For the sake of objectivity, let's compare the sizes of a sparse versus a regular matrix.\n",
    "\n",
    "We use `sp.sparse.random` to generate a sparse matrix of a given shape and density, with randomly distributed values.\n",
    "\n",
    "(The term density is often used to refer to what we called the sparsity score previously.)"
   ]
  },
  {
   "cell_type": "code",
   "execution_count": 2,
   "metadata": {},
   "outputs": [
    {
     "data": {
      "text/plain": [
       "0.015005005"
      ]
     },
     "execution_count": 2,
     "metadata": {},
     "output_type": "execute_result"
    }
   ],
   "source": [
    "def sparse_matrix_nbytes(M):\n",
    "    return M.data.nbytes + M.indptr.nbytes + M.indices.nbytes\n",
    "\n",
    "\n",
    "A = random(10 ** 3, 10 ** 5, density=.01, format='csr')\n",
    "sparse_matrix_nbytes(A) / A.toarray().nbytes"
   ]
  },
  {
   "cell_type": "markdown",
   "metadata": {},
   "source": [
    "So, there's that.\n",
    "\n",
    "Let's explore how sparse matrices work and exemplify some implementations."
   ]
  },
  {
   "cell_type": "markdown",
   "metadata": {},
   "source": [
    "### 3.1.1 Dictionary of Keys (DOK)\n",
    "\n",
    "The most straightforward implementation of a sparse matrix is as a dictionary of keys, in which the keys are tuples represent indices.\n",
    "\n",
    "```\n",
    "┌───┬───┬───┐          \n",
    "│ 1 │ 0 │ 0 │          {  \n",
    "├───┼───┼───┤            (0, 0): 1,\n",
    "│ 0 │ 1 │ 0 │ → DoK →    (1, 1): 1,\n",
    "├───┼───┼───┤            (2, 2): 1,\n",
    "│ 0 │ 0 │ 1 │          }\n",
    "└───┴───┴───┘ \n",
    "```"
   ]
  },
  {
   "cell_type": "code",
   "execution_count": 3,
   "metadata": {},
   "outputs": [
    {
     "data": {
      "text/plain": [
       "array([[0.        , 0.        , 0.        , 0.        , 0.        ],\n",
       "       [0.        , 0.79654299, 0.        , 0.        , 0.        ],\n",
       "       [0.        , 0.        , 0.        , 0.        , 0.        ],\n",
       "       [0.        , 0.        , 0.        , 0.        , 0.        ],\n",
       "       [0.        , 0.        , 0.        , 0.        , 0.        ]])"
      ]
     },
     "execution_count": 3,
     "metadata": {},
     "output_type": "execute_result"
    }
   ],
   "source": [
    "B = random(5, 5, density=.04, format='dok', random_state=42)\n",
    "\n",
    "B.toarray()"
   ]
  },
  {
   "cell_type": "code",
   "execution_count": 4,
   "metadata": {},
   "outputs": [
    {
     "data": {
      "text/plain": [
       "{(1, 1): 0.7965429868602328}"
      ]
     },
     "execution_count": 4,
     "metadata": {},
     "output_type": "execute_result"
    }
   ],
   "source": [
    "dict(B)"
   ]
  },
  {
   "cell_type": "markdown",
   "metadata": {},
   "source": [
    "### 3.1.2 Linked List (LIL)\n",
    "\n",
    "The row-based linked list format uses two NumPy arrays with regular Python lists inside them, one list per row.\n",
    "\n",
    "The first array stores the values in the cells ordered from the left-most column to the right-most one. (If there's no data, the row is an empty list.)\n",
    "\n",
    "The second stores which cells are occupied, i.e., the column index of the values.\n",
    "\n",
    "```\n",
    "┌───┬───┬───┐         Matrix data:    Matrix rows:          \n",
    "│ 1 │ 0 │ 1 │          [               [  \n",
    "├───┼───┼───┤            [1, 1],         [0, 2],\n",
    "│ 0 │ 0 │ 0 │ → LIL →    [],             [],\n",
    "├───┼───┼───┤            [1],            [2]\n",
    "│ 0 │ 0 │ 1 │          ]               ]\n",
    "└───┴───┴───┘ \n",
    "```"
   ]
  },
  {
   "cell_type": "code",
   "execution_count": 5,
   "metadata": {},
   "outputs": [
    {
     "data": {
      "text/plain": [
       "array([[0.        , 0.        , 0.        , 0.        , 0.        ],\n",
       "       [0.        , 0.        , 0.30453644, 0.        , 0.        ],\n",
       "       [0.        , 0.        , 0.        , 0.        , 0.        ],\n",
       "       [0.        , 0.        , 0.        , 0.        , 0.        ],\n",
       "       [0.        , 0.        , 0.        , 0.        , 0.        ]])"
      ]
     },
     "execution_count": 5,
     "metadata": {},
     "output_type": "execute_result"
    }
   ],
   "source": [
    "C = random(5, 5, density=.04, format='lil', random_state=45)\n",
    "\n",
    "C.toarray()"
   ]
  },
  {
   "cell_type": "code",
   "execution_count": 6,
   "metadata": {},
   "outputs": [
    {
     "data": {
      "text/plain": [
       "array([list([]), list([0.304536436122244]), list([]), list([]), list([])],\n",
       "      dtype=object)"
      ]
     },
     "execution_count": 6,
     "metadata": {},
     "output_type": "execute_result"
    }
   ],
   "source": [
    "C.data"
   ]
  },
  {
   "cell_type": "code",
   "execution_count": 7,
   "metadata": {},
   "outputs": [
    {
     "data": {
      "text/plain": [
       "array([list([]), list([2]), list([]), list([]), list([])], dtype=object)"
      ]
     },
     "execution_count": 7,
     "metadata": {},
     "output_type": "execute_result"
    }
   ],
   "source": [
    "C.rows"
   ]
  },
  {
   "cell_type": "markdown",
   "metadata": {},
   "source": [
    "### 3.1.3 Coordinate List (COO)\n",
    "\n",
    "A `COO` matrix uses three NumPy arrays, and for each occupied cell, there is a value in the three of them.\n",
    "\n",
    "Perhaps without surprise, the first stores the values, the second the row indexes and the third the column indexes.\n",
    "\n",
    "```\n",
    "┌───┬───┬───┐                   \n",
    "│ 1 │ 0 │ 1 │          Matrix data: [1, 1, 1] \n",
    "├───┼───┼───┤          \n",
    "│ 0 │ 0 │ 0 │ → COO →  Matrix rows: [0, 0, 2]\n",
    "├───┼───┼───┤          \n",
    "│ 0 │ 0 │ 1 │          Matrix cols: [0, 2, 2]\n",
    "└───┴───┴───┘ \n",
    "```\n",
    "\n",
    "A particularity of `COO` matrices, is that they allow duplicate entries."
   ]
  },
  {
   "cell_type": "code",
   "execution_count": 8,
   "metadata": {},
   "outputs": [
    {
     "data": {
      "text/plain": [
       "array([[0.        , 0.        , 0.        , 0.19393333, 0.        ],\n",
       "       [0.        , 0.        , 0.        , 0.        , 0.        ],\n",
       "       [0.        , 0.        , 0.        , 0.        , 0.        ],\n",
       "       [0.        , 0.        , 0.        , 0.        , 0.        ],\n",
       "       [0.        , 0.        , 0.        , 0.        , 0.        ]])"
      ]
     },
     "execution_count": 8,
     "metadata": {},
     "output_type": "execute_result"
    }
   ],
   "source": [
    "D = random(5, 5, density=.04, format='coo', random_state=54)\n",
    "\n",
    "D.toarray()"
   ]
  },
  {
   "cell_type": "code",
   "execution_count": 9,
   "metadata": {},
   "outputs": [
    {
     "data": {
      "text/plain": [
       "array([0.19393333])"
      ]
     },
     "execution_count": 9,
     "metadata": {},
     "output_type": "execute_result"
    }
   ],
   "source": [
    "D.data"
   ]
  },
  {
   "cell_type": "code",
   "execution_count": 10,
   "metadata": {},
   "outputs": [
    {
     "data": {
      "text/plain": [
       "array([0], dtype=int32)"
      ]
     },
     "execution_count": 10,
     "metadata": {},
     "output_type": "execute_result"
    }
   ],
   "source": [
    "D.row"
   ]
  },
  {
   "cell_type": "code",
   "execution_count": 11,
   "metadata": {},
   "outputs": [
    {
     "data": {
      "text/plain": [
       "array([3], dtype=int32)"
      ]
     },
     "execution_count": 11,
     "metadata": {},
     "output_type": "execute_result"
    }
   ],
   "source": [
    "D.col"
   ]
  },
  {
   "cell_type": "markdown",
   "metadata": {},
   "source": [
    "### 3.1.4 Compressed Sparse (CS)\n",
    "\n",
    "The Compressed Sparse Row (CSR), uses three arrays:\n",
    "* `data`, the value vector containing all non-zero values in [row-major order](https://en.wikipedia.org/wiki/Row-_and_column-major_order)\n",
    "* `indptr`, the index pointer indicates at which element of the value vector the row starts\n",
    "* `indices`, contains the column indices (which column each of the values come from).\n",
    "\n",
    "```\n",
    "┌───┬───┬───┐                   \n",
    "│ 1 │ 0 │ 1 │          Matrix data:    [1, 1, 1] \n",
    "├───┼───┼───┤          \n",
    "│ 0 │ 0 │ 0 │ → CSR →  Matrix indptr:  [0, 2, 2, 4]\n",
    "├───┼───┼───┤          \n",
    "│ 0 │ 0 │ 1 │          Matrix indices: [0, 2, 2]\n",
    "└───┴───┴───┘ \n",
    "```\n",
    "\n",
    "In fact, the index pointers tell us the starting and stopping indices `data[i, j]` for each row, above:\n",
    "* The first row is given by `data[0:2]`\n",
    "* The second row is given by `data[2:2]`\n",
    "* The third row is given by `data[2:4]`.\n",
    "\n",
    "The Compressed Sparse Column (CSC) format is similar, but the pointers refer to columns and the indices to the rows.\n",
    "\n",
    "Finally, by default when converting from `COO` to `CSR` or `CSC` format, duplicate entries are summed together. "
   ]
  },
  {
   "cell_type": "code",
   "execution_count": 12,
   "metadata": {},
   "outputs": [
    {
     "data": {
      "text/plain": [
       "array([[0.        , 0.        , 0.        , 0.        , 0.        ],\n",
       "       [0.        , 0.        , 0.        , 0.        , 0.57036289],\n",
       "       [0.        , 0.11738351, 0.        , 0.        , 0.        ],\n",
       "       [0.        , 0.64199587, 0.        , 0.        , 0.        ],\n",
       "       [0.        , 0.        , 0.41996239, 0.        , 0.95389536]])"
      ]
     },
     "execution_count": 12,
     "metadata": {},
     "output_type": "execute_result"
    }
   ],
   "source": [
    "E = random(5, 5, density=.2, format='csr', random_state=65)\n",
    "\n",
    "E.toarray()"
   ]
  },
  {
   "cell_type": "code",
   "execution_count": 13,
   "metadata": {},
   "outputs": [
    {
     "data": {
      "text/plain": [
       "array([0.57036289, 0.11738351, 0.64199587, 0.41996239, 0.95389536])"
      ]
     },
     "execution_count": 13,
     "metadata": {},
     "output_type": "execute_result"
    }
   ],
   "source": [
    "E.data"
   ]
  },
  {
   "cell_type": "code",
   "execution_count": 14,
   "metadata": {},
   "outputs": [
    {
     "data": {
      "text/plain": [
       "array([0, 0, 1, 2, 3, 5], dtype=int32)"
      ]
     },
     "execution_count": 14,
     "metadata": {},
     "output_type": "execute_result"
    }
   ],
   "source": [
    "E.indptr"
   ]
  },
  {
   "cell_type": "code",
   "execution_count": 15,
   "metadata": {},
   "outputs": [
    {
     "data": {
      "text/plain": [
       "array([4, 1, 1, 2, 4], dtype=int32)"
      ]
     },
     "execution_count": 15,
     "metadata": {},
     "output_type": "execute_result"
    }
   ],
   "source": [
    "E.indices"
   ]
  },
  {
   "cell_type": "markdown",
   "metadata": {},
   "source": [
    "### 3.1.5 Summary\n",
    "\n",
    "The main takeaways (aka the sparse matrices guide to happiness):\n",
    "\n",
    "* `DOK`, `LIL` and `COO` are all convenient formats to construct sparse matrices\n",
    "* `COO` is a fast format for constructing sparse matrices and is preferred to `DOK` and `LIL` for large matrices\n",
    "* On the other hand, `DOK` and `LIL` deal efficiently with changes to the sparsity structure, suited for incremental construction\n",
    "* Once we construct the matrix, we convert it to `CSR` or `CSC` fast operations, the most used for write-once-read-many tasks.\n",
    "\n",
    "| Sparse Matrix Type       | Street Name | Good                                                                                       | Bad                                                                   |\n",
    "|--------------------------|-------------|--------------------------------------------------------------------------------------------|-----------------------------------------------------------------------|\n",
    "| Dictionary of Keys (DOK) | DOK         | Fast incremental construction; Flexible structure; Efficient access to individual elements | Slow iteration; Slow arithmetics; Slow slicing                        |\n",
    "| List of Lists (LIL)      | LIL         | Fast incremental construction; Flexible structure                                          | Slow arithmetics; Slow column slicing; Slow matrix-vector products    |\n",
    "| Coordinate List (COO)    | COO         | Fast conversion to other sparse formats; Permits duplicate entries                         | Doesn't support arithmetic operations; Doesn't support slicing        |\n",
    "| Compressed Sparse (CS)   | CSR/CSC     | Changes to sparsity structure are expensive                                                | Efficient arithmetics; Efficient slicing; Fast matrix-vector products |\n",
    "*Table 1: Comparison of the main sparse matrix types in SciPy.*\n",
    "\n",
    "Finally, when comparing the two types of Compressed Sparse matrices:\n",
    "* `CSR` provides efficient row slicing but slow column slicing, i.e., accessing and operating on row vectors\n",
    "* `CSC` provides efficient column slicing but slow row slicing, i.e., accessing and operating on column vectors.\n",
    "\n",
    "Let's create some sparse matrices!\n",
    "\n",
    "## 3.2 Creating Sparse Matrices\n",
    "\n",
    "Back to our rating matrix $R$ from the previous unit, as:\n",
    "\n",
    "```\n",
    "    ┌───┬───┬───┐                   \n",
    "    │ 1 │   │ 2 │\n",
    "    ├───┼───┼───┤          \n",
    "R = │ 1 │ 5 │   │\n",
    "    ├───┼───┼───┤          \n",
    "    │   │ 2 │ 1 │\n",
    "    └───┴───┴───┘ \n",
    "```\n",
    "\n",
    "In this section, we build sparse representations of $R$.\n",
    "\n",
    "We start from our standard array."
   ]
  },
  {
   "cell_type": "code",
   "execution_count": 16,
   "metadata": {},
   "outputs": [],
   "source": [
    "data = np.array([1, 0, 2, 1, 5, 0, 0, 2, 1]).reshape(3, 3)"
   ]
  },
  {
   "cell_type": "markdown",
   "metadata": {},
   "source": [
    "### 3.2.1 DOK and LIL\n",
    "\n",
    "The use-case for both `DOK` and `LIL` is incremental construction."
   ]
  },
  {
   "cell_type": "code",
   "execution_count": 17,
   "metadata": {},
   "outputs": [
    {
     "data": {
      "text/plain": [
       "array([[1., 0., 2.],\n",
       "       [1., 5., 0.],\n",
       "       [0., 2., 1.]])"
      ]
     },
     "execution_count": 17,
     "metadata": {},
     "output_type": "execute_result"
    }
   ],
   "source": [
    "F = dok_matrix((3, 3))\n",
    "\n",
    "for i in range(3):\n",
    "    for j in range(3):\n",
    "        F[i, j] = data[i, j]\n",
    "\n",
    "F.toarray()"
   ]
  },
  {
   "cell_type": "code",
   "execution_count": 18,
   "metadata": {},
   "outputs": [
    {
     "data": {
      "text/plain": [
       "array([[1., 0., 2.],\n",
       "       [1., 5., 0.],\n",
       "       [0., 2., 1.]])"
      ]
     },
     "execution_count": 18,
     "metadata": {},
     "output_type": "execute_result"
    }
   ],
   "source": [
    "G = lil_matrix((3, 3))\n",
    "\n",
    "G[data.nonzero()] = data[data.nonzero()]\n",
    "\n",
    "G.toarray()"
   ]
  },
  {
   "cell_type": "markdown",
   "metadata": {},
   "source": [
    "### 3.2.2 COO\n",
    "\n",
    "However, the most common way to create sparse matrices (and the one we will be using) is the `COO`."
   ]
  },
  {
   "cell_type": "code",
   "execution_count": 19,
   "metadata": {},
   "outputs": [
    {
     "data": {
      "text/plain": [
       "array([[1., 0., 2.],\n",
       "       [1., 5., 0.],\n",
       "       [0., 2., 1.]])"
      ]
     },
     "execution_count": 19,
     "metadata": {},
     "output_type": "execute_result"
    }
   ],
   "source": [
    "data  = np.array([1, 2, 1, 5, 2, 1])\n",
    "\n",
    "col = np.array([0, 2, 0, 1, 1, 2])\n",
    "row = np.array([0, 0, 1, 1, 2, 2])\n",
    "\n",
    "H = coo_matrix((data, (row, col)), shape=(3, 3))\n",
    "H.toarray()"
   ]
  },
  {
   "cell_type": "markdown",
   "metadata": {},
   "source": [
    "## 3.3 Converting to Compressed Sparse\n",
    "\n",
    "`COO` matrices can easily be converted to the `CSR` format, so that we can efficiently operate on them."
   ]
  },
  {
   "cell_type": "code",
   "execution_count": 20,
   "metadata": {},
   "outputs": [
    {
     "data": {
      "text/plain": [
       "<3x3 sparse matrix of type '<class 'numpy.int64'>'\n",
       "\twith 6 stored elements in Compressed Sparse Row format>"
      ]
     },
     "execution_count": 20,
     "metadata": {},
     "output_type": "execute_result"
    }
   ],
   "source": [
    "H_ = H.tocsr()\n",
    "H_"
   ]
  },
  {
   "cell_type": "code",
   "execution_count": 21,
   "metadata": {},
   "outputs": [
    {
     "data": {
      "text/plain": [
       "array([1, 2, 1, 5, 2, 1], dtype=int64)"
      ]
     },
     "execution_count": 21,
     "metadata": {},
     "output_type": "execute_result"
    }
   ],
   "source": [
    "H_.data"
   ]
  },
  {
   "cell_type": "code",
   "execution_count": 22,
   "metadata": {},
   "outputs": [
    {
     "data": {
      "text/plain": [
       "array([0, 2, 4, 6], dtype=int32)"
      ]
     },
     "execution_count": 22,
     "metadata": {},
     "output_type": "execute_result"
    }
   ],
   "source": [
    "H_.indptr"
   ]
  },
  {
   "cell_type": "code",
   "execution_count": 23,
   "metadata": {},
   "outputs": [
    {
     "data": {
      "text/plain": [
       "array([0, 2, 0, 1, 1, 2], dtype=int32)"
      ]
     },
     "execution_count": 23,
     "metadata": {},
     "output_type": "execute_result"
    }
   ],
   "source": [
    "H_.indices"
   ]
  },
  {
   "cell_type": "markdown",
   "metadata": {},
   "source": [
    "The process is exactly the same to convert `COO` to `CSC`."
   ]
  },
  {
   "cell_type": "code",
   "execution_count": 24,
   "metadata": {},
   "outputs": [
    {
     "data": {
      "text/plain": [
       "<3x3 sparse matrix of type '<class 'numpy.int64'>'\n",
       "\twith 6 stored elements in Compressed Sparse Column format>"
      ]
     },
     "execution_count": 24,
     "metadata": {},
     "output_type": "execute_result"
    }
   ],
   "source": [
    "H.tocsc()"
   ]
  },
  {
   "cell_type": "markdown",
   "metadata": {},
   "source": [
    "# 4 Matrix Algebra\n",
    "\n",
    "In the previous learning unit, we introduced vectorization and data-parallelization, i.e., performing a single operation on multiple data at once.\n",
    "\n",
    "Vectorization decreases time complexity, grounded in $n$-dimensional arrays and the methods and functions that operate on them.\n",
    "\n",
    "Vectorized instructions are applied to the data as a whole, avoiding cycles and, particularly, `for` loops.\n",
    "\n",
    "A particularly relevant set of methods deliberately left out of the last unit, relates to linear algebra and matrix multiplication.\n",
    "\n",
    "## 4.1 Notation\n",
    "\n",
    "We write $A \\in \\mathbb{R}^{\\space m \\space \\times \\space n}$ a matrix $m$ rows and $n$ columns, where the entries of $A$ are real numbers.\n",
    "\n",
    "An $n$-dimensional vector is a vector with $n$ entries, as $x \\in \\mathbb{R}^n$, represented as a matrix with $n$ rows and one column, i.e., a column-vector.\n",
    "\n",
    "$$x = \\begin{bmatrix} x_0 \\\\ x_1 \\\\ ... \\\\ x_i \\end{bmatrix}$$ \n",
    "\n",
    "If we want to represent $x$ as a matrix with $n$ columns and a single row, i.e., a row-vector, we explicitly write the vector transposed.\n",
    "\n",
    "$$x^T = \\begin{bmatrix}x_0 & x_1 & ... & x_i \\end{bmatrix}$$\n",
    "\n",
    "We use $a_{ij}$ to represent the value of $A$ in the $i$-th row and the $j$-th column, $a_j$ for the $j$-th column and $a_i^T$ for the $i$-th row.\n",
    "\n",
    "$$A = \\begin{bmatrix}a_{00} & a_{01} & ... & a_{0n} \\\\ a_{10} & a_{11} & ... & a_{1n} \\\\ ...  & ... & ... & ...\\\\ a_{m0} & a_{m1} & ... & a_{mn}\\end{bmatrix}$$\n",
    "\n",
    "$$a_j = \\begin{bmatrix} a_{0j} \\\\ a_{1j} \\\\ ... \\\\ a_{mj} \\end{bmatrix}$$ \n",
    "\n",
    "$$a_i^T = \\begin{bmatrix}a_{i0} & a_{i1} & ... & a_{in} \\end{bmatrix}$$\n",
    "\n",
    "We move to matrix multiplication, the critical matrix operation in memory-based recommender systems.\n",
    "\n",
    "## 4.2 Matrix Multiplication\n",
    "\n",
    "The product of two matrices $A \\in \\mathbb{R}^{\\space m \\space \\times \\space n}$ and $B \\in \\mathbb{R}^{\\space m \\space \\times \\space p}$ is the matrix $C = AB \\in \\mathbb{R}^{\\space m \\space \\times \\space n}$, where:\n",
    "\n",
    "$$C_{ij} = \\sum\\limits_{k=1}^n A_{ik}B_{kj}$$\n",
    "\n",
    "In short, each value in $C_{ik}$ is the sum of the product of the $i$-throw of $A$ by the $j$-th column of $B$.\n",
    "\n",
    "For the matrix product to exist, the number of columns in $A$ must equal the number of rows in $B$.\n",
    "\n",
    "## 4.3 Vector-vector products\n",
    "\n",
    "This product is known as the scalar or *dot* product, from the centered dot that is used to designate this operation, as in $x \\cdot y$.\n",
    "\n",
    "Given $x^T, y \\in \\mathbb{R}^n$, the inner product or dot-product of the vectors is:\n",
    "\n",
    "$$x^Ty \\in R = \\begin{bmatrix}x_0 & x_1 & ... & x_n\\end{bmatrix} \\begin{bmatrix}y_0 \\\\ y_1 \\\\ ... \\\\ y_n\\end{bmatrix} = \\sum\\limits_{i=1}^n x_{i}y_{i}$$\n",
    "\n",
    "Note that this is a particular case of matrix multiplication, with a single row and a single column.\n",
    "\n",
    "This operation is sometimes also referred to as the sum-product, popularized by an Excel function with that name."
   ]
  },
  {
   "cell_type": "code",
   "execution_count": 25,
   "metadata": {},
   "outputs": [],
   "source": [
    "x = [0, 1, 2, 3, 4]\n",
    "y = [5, 6, 7, 8, 9]"
   ]
  },
  {
   "cell_type": "markdown",
   "metadata": {},
   "source": [
    "Let's implement this in vanilla Python, to build up our intuition. \n",
    "\n",
    "We will use `zip` to aggregate both lists element-wise."
   ]
  },
  {
   "cell_type": "code",
   "execution_count": 26,
   "metadata": {},
   "outputs": [
    {
     "data": {
      "text/plain": [
       "[(0, 5), (1, 6), (2, 7), (3, 8), (4, 9)]"
      ]
     },
     "execution_count": 26,
     "metadata": {},
     "output_type": "execute_result"
    }
   ],
   "source": [
    "list(zip(x, y))"
   ]
  },
  {
   "cell_type": "code",
   "execution_count": 27,
   "metadata": {},
   "outputs": [
    {
     "data": {
      "text/plain": [
       "80"
      ]
     },
     "execution_count": 27,
     "metadata": {},
     "output_type": "execute_result"
    }
   ],
   "source": [
    "def dot_product(x, y):\n",
    "    result = 0\n",
    "    for i, j in zip(x, y):\n",
    "        result += i*j\n",
    "        \n",
    "    return result\n",
    "\n",
    "\n",
    "dot_product(x, y)"
   ]
  },
  {
   "cell_type": "markdown",
   "metadata": {},
   "source": [
    "It is always the case that $x^Ty = y^Tx$.\n",
    "\n",
    "Without surprises, NumPy provides us with a vectorized function for the dot-product of two arrays.\n",
    "\n",
    "We transpose a matrix using the array method `transposed`, or simply `T`."
   ]
  },
  {
   "cell_type": "code",
   "execution_count": 28,
   "metadata": {},
   "outputs": [
    {
     "data": {
      "text/plain": [
       "array([[80]])"
      ]
     },
     "execution_count": 28,
     "metadata": {},
     "output_type": "execute_result"
    }
   ],
   "source": [
    "x_ = np.array(x).reshape(-1, 1)\n",
    "y_ = np.array(y).reshape(-1, 1)\n",
    "\n",
    "np.dot(x_.T, y_)"
   ]
  },
  {
   "cell_type": "markdown",
   "metadata": {},
   "source": [
    "## 4.4 Matrix-Vector products\n",
    "\n",
    "Given a matrix $A \\in \\mathbb{R}^{\\space m \\space \\times \\space n}$ and a vector $x \\in \\mathbb{R}^{\\space n}$, the product is a vector $y = Ax \\in \\mathbb{R}^{\\space m}$. \n",
    "\n",
    "(Perhaps it's worth remembering that $x$ is an $n \\times 1$ matrix. Hence, the shape of $y$.)\n",
    "\n",
    "There are four equivalent ways to look at matrix-vector multiplication. Take $A$ by the rows, we write it as:\n",
    "\n",
    "$$y = Ax = \\begin{bmatrix}a_0^Tx \\\\ a_1^Tx \\\\ ... \\\\ a_m^Tx\\end{bmatrix}$$\n",
    "\n",
    "In other words, the $i$-th entry of $y$ is equal to the inner product of the $i$-th row of $A$ and $x$, $y_i = a_i^T x$.\n",
    "\n",
    "However, if we write $A$ in column form:\n",
    "\n",
    "$$y = Ax = a_0x_0 + a_1x_1 + ... + a_nx_n$$\n",
    "\n",
    "Thus, $y$ is a linear combination of the columns of $A$, where $x$ gives the coefficients.\n",
    "\n",
    "It's also possible to multiply on the left by a row vector. Using the columns from $A$:\n",
    "\n",
    "$$y^T = x^TA = \\begin{bmatrix}x^Ta_0 & x^Ta_1 & ... & x^Ta_n \\end{bmatrix}$$\n",
    "\n",
    "Or, alternatively, using the rows:\n",
    "\n",
    "$$y^T = x_0a_0^T + x_1a_1^T + ... + x_na_n^T$$\n",
    "\n",
    "We have that $y^T$ is a linear combination of the rows of $A$, where $x$ is a vector of coefficients."
   ]
  },
  {
   "cell_type": "code",
   "execution_count": 29,
   "metadata": {},
   "outputs": [
    {
     "data": {
      "text/plain": [
       "array([[0, 1, 2],\n",
       "       [3, 4, 5],\n",
       "       [6, 7, 8]])"
      ]
     },
     "execution_count": 29,
     "metadata": {},
     "output_type": "execute_result"
    }
   ],
   "source": [
    "H = np.arange(9).reshape(3, 3)\n",
    "H"
   ]
  },
  {
   "cell_type": "code",
   "execution_count": 30,
   "metadata": {},
   "outputs": [
    {
     "data": {
      "text/plain": [
       "array([[0],\n",
       "       [1],\n",
       "       [2]])"
      ]
     },
     "execution_count": 30,
     "metadata": {},
     "output_type": "execute_result"
    }
   ],
   "source": [
    "h = np.arange(3).reshape(-1, 1)\n",
    "h"
   ]
  },
  {
   "cell_type": "code",
   "execution_count": 31,
   "metadata": {},
   "outputs": [
    {
     "data": {
      "text/plain": [
       "array([[ 5],\n",
       "       [14],\n",
       "       [23]])"
      ]
     },
     "execution_count": 31,
     "metadata": {},
     "output_type": "execute_result"
    }
   ],
   "source": [
    "np.dot(H, h)"
   ]
  },
  {
   "cell_type": "markdown",
   "metadata": {},
   "source": [
    "## 4.5 Matrix-Matrix products\n",
    "\n",
    "Using the above, we can build our intuition of the matrix-matrix multiplication $C = AB$.\n",
    "\n",
    "We start by representing matrix multiplication as a set of dot-products.\n",
    "\n",
    "$$C = AB = \\begin{bmatrix}a_0^Tb_0 & a_0^Tb_1 & ... & a_0^Tb_p \\\\ a_1^Tb_0 & a_1^Tb_1 & ... & a_1^Tb_p \\\\ ...  & ... & ... & ...\\\\ a_m^Tb_0 & a_m^Tb_1 & ... & a_m^Tb_p\\end{bmatrix}$$\n",
    "\n",
    "Remember that since $A \\in \\mathbb{R}^{\\space m \\space \\times \\space n}$ and $B \\in \\mathbb{R}^{\\space m \\space \\times \\space p}$, we have $a_i \\in \\mathbb{R}^n$ and $b_j \\in \\mathbb{R}^n$.\n",
    "\n",
    "A second approach is to represent matrix multiplication as a set of matrix-vector products, each returning a column-vector.\n",
    "\n",
    "$$C = AB = \\begin{bmatrix}Ab_0 & Ab_1 & ... & Ab_p\\end{bmatrix}$$\n",
    "\n",
    "A third one is to use matrix-vector products with the vector on the left, each returning a row-vector.\n",
    "\n",
    "$$C = AB = \\begin{bmatrix}a_0^TB \\\\ a_1^TB \\\\ ... \\\\ a_m^TB\\end{bmatrix}$$"
   ]
  },
  {
   "cell_type": "code",
   "execution_count": 32,
   "metadata": {},
   "outputs": [
    {
     "data": {
      "text/plain": [
       "array([[ 0,  1,  2,  3],\n",
       "       [ 4,  5,  6,  7],\n",
       "       [ 8,  9, 10, 11]])"
      ]
     },
     "execution_count": 32,
     "metadata": {},
     "output_type": "execute_result"
    }
   ],
   "source": [
    "I = np.arange(12).reshape(3, 4)\n",
    "I"
   ]
  },
  {
   "cell_type": "code",
   "execution_count": 33,
   "metadata": {},
   "outputs": [
    {
     "data": {
      "text/plain": [
       "array([[ 20,  23,  26,  29],\n",
       "       [ 56,  68,  80,  92],\n",
       "       [ 92, 113, 134, 155]])"
      ]
     },
     "execution_count": 33,
     "metadata": {},
     "output_type": "execute_result"
    }
   ],
   "source": [
    "np.dot(H, I)"
   ]
  },
  {
   "cell_type": "markdown",
   "metadata": {},
   "source": [
    "Combining sparse matrices with linear algebra, we manage space and time complexity when building memory-based RS."
   ]
  }
 ],
 "metadata": {
  "kernelspec": {
   "display_name": "Python 3",
   "language": "python",
   "name": "python3"
  },
  "language_info": {
   "codemirror_mode": {
    "name": "ipython",
    "version": 3
   },
   "file_extension": ".py",
   "mimetype": "text/x-python",
   "name": "python",
   "nbconvert_exporter": "python",
   "pygments_lexer": "ipython3",
   "version": "3.6.5"
  }
 },
 "nbformat": 4,
 "nbformat_minor": 2
}
